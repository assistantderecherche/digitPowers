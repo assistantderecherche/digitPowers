{
 "cells": [
  {
   "cell_type": "code",
   "execution_count": 1,
   "id": "fedf82cb",
   "metadata": {},
   "outputs": [],
   "source": [
    "from util import *"
   ]
  },
  {
   "cell_type": "code",
   "execution_count": 2,
   "id": "45c7c90e",
   "metadata": {},
   "outputs": [
    {
     "name": "stdout",
     "output_type": "stream",
     "text": [
      "i =  1\t\tdt = 0.0\n",
      "i =  2\t\tdt = 0.0\tsz_ratio = 5.50\t\tdt_ratio = 14.20\n",
      "i =  3\t\tdt = 0.0\tsz_ratio = 4.00\t\tdt_ratio = 4.71\n",
      "i =  4\t\tdt = 0.0\tsz_ratio = 3.25\t\tdt_ratio = 3.79\n",
      "i =  5\t\tdt = 0.0\tsz_ratio = 2.80\t\tdt_ratio = 3.10\n",
      "i =  6\t\tdt = 0.0\tsz_ratio = 2.50\t\tdt_ratio = 2.75\n",
      "i =  7\t\tdt = 0.1\tsz_ratio = 2.29\t\tdt_ratio = 2.42\n",
      "i =  8\t\tdt = 0.2\tsz_ratio = 2.12\t\tdt_ratio = 2.23\n",
      "i =  9\t\tdt = 0.3\tsz_ratio = 2.00\t\tdt_ratio = 2.09\n",
      "i = 10\t\tdt = 0.6\tsz_ratio = 1.90\t\tdt_ratio = 1.95\n",
      "\n",
      "Size,time ratios:\n",
      "\n",
      "5.50\t14.20\n",
      "4.00\t4.71\n",
      "3.25\t3.79\n",
      "2.80\t3.10\n",
      "2.50\t2.75\n",
      "2.29\t2.42\n",
      "2.12\t2.23\n",
      "2.00\t2.09\n",
      "1.90\t1.95\n",
      "\n",
      "Sizes:\n",
      "\n",
      "10, 55, 220, 715, 2002, 5005, 11440, 24310, 48620, 92378\n"
     ]
    }
   ],
   "source": [
    "szs_gen = printSizes(10)"
   ]
  },
  {
   "cell_type": "code",
   "execution_count": 3,
   "id": "d54de19f",
   "metadata": {},
   "outputs": [
    {
     "name": "stdout",
     "output_type": "stream",
     "text": [
      "55, 220, 715, 2002, 5005, 11440, 24310, 48620, 92378\n"
     ]
    }
   ],
   "source": [
    "szs_comb = computeSizesCombinatorics(10)\n",
    "print(', '.join([str(s) for s in szs_comb]))"
   ]
  },
  {
   "cell_type": "code",
   "execution_count": 4,
   "id": "3d8f0c48",
   "metadata": {},
   "outputs": [
    {
     "data": {
      "text/plain": [
       "True"
      ]
     },
     "execution_count": 4,
     "metadata": {},
     "output_type": "execute_result"
    }
   ],
   "source": [
    "szs_gen[1:] == szs_comb"
   ]
  },
  {
   "cell_type": "code",
   "execution_count": null,
   "id": "66ea5f61",
   "metadata": {},
   "outputs": [],
   "source": []
  }
 ],
 "metadata": {
  "kernelspec": {
   "display_name": "Python 3 (ipykernel)",
   "language": "python",
   "name": "python3"
  },
  "language_info": {
   "codemirror_mode": {
    "name": "ipython",
    "version": 3
   },
   "file_extension": ".py",
   "mimetype": "text/x-python",
   "name": "python",
   "nbconvert_exporter": "python",
   "pygments_lexer": "ipython3",
   "version": "3.9.14"
  }
 },
 "nbformat": 4,
 "nbformat_minor": 5
}
