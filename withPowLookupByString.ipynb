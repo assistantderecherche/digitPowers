{
 "cells": [
  {
   "cell_type": "code",
   "execution_count": 8,
   "id": "ff94562d",
   "metadata": {},
   "outputs": [],
   "source": [
    "from collections import Counter"
   ]
  },
  {
   "cell_type": "code",
   "execution_count": 16,
   "id": "536e3871",
   "metadata": {},
   "outputs": [],
   "source": [
    "def sorter(s):\n",
    "    l = s.split(',')\n",
    "    n = len(l)\n",
    "    s = n*10**(2*n)\n",
    "    for i in range(n):\n",
    "        val, howmany = [int(x) for x in l[i].split(\":\")]\n",
    "        s += (val*10**(2*(n-i)-1) + howmany*10**(2*(n-i)))\n",
    "    return s   \n",
    "\n",
    "\n",
    "def gen_seq_str(N, upper_bound):\n",
    "\n",
    "    if upper_bound == 1:\n",
    "        if N > 0:\n",
    "            yield f\"0:{N}\"\n",
    "        else:\n",
    "            yield ''\n",
    "    elif N == 1:\n",
    "        for i in range(upper_bound):\n",
    "            yield f\"{i}:1\"\n",
    "    else:    \n",
    "        for how_many in range(N + 1):\n",
    "            if how_many == 0:\n",
    "                for r in gen_seq_str(N, upper_bound - 1):\n",
    "                    yield r\n",
    "            else:\n",
    "                for r in gen_seq_str(N-how_many, upper_bound - 1):\n",
    "                    if r:\n",
    "                        yield \",\".join([r,f\"{upper_bound - 1}:{how_many}\"])\n",
    "                    else:\n",
    "                        yield f\"{upper_bound - 1}:{how_many}\"\n",
    "                            \n",
    "\n",
    "def pow_lookup_table(N):\n",
    "    lkp = {}\n",
    "    for d in range(10):\n",
    "        for i in range(N+1):\n",
    "            key = f\"{d}:{i}\"\n",
    "            lkp[key] = i*d**N\n",
    "            \n",
    "    return lkp\n",
    "    \n",
    "\n",
    "def str2val(lkp, s):\n",
    "    return sum([lkp[k] for k in s.split(\",\")])\n",
    "\n",
    "\n",
    "def val2str(val):\n",
    "    c = Counter(str(val))\n",
    "    return ','.join([f\"{x}:{y}\" for x,y in sorted(c.items())])\n"
   ]
  },
  {
   "cell_type": "code",
   "execution_count": 20,
   "id": "0d40303f",
   "metadata": {
    "scrolled": true
   },
   "outputs": [
    {
     "name": "stdout",
     "output_type": "stream",
     "text": [
      "N = 2, total = 55\n",
      "0:2 1:2 2:2 3:2 4:2 5:2 6:2 7:2 8:2 9:2 0:1,1:1 0:1,2:1 0:1,3:1 0:1,4:1 0:1,5:1 0:1,6:1 0:1,7:1 0:1,8:1 0:1,9:1 1:1,2:1 1:1,3:1 1:1,4:1 1:1,5:1 1:1,6:1 1:1,7:1 1:1,8:1 1:1,9:1 2:1,3:1 2:1,4:1 2:1,5:1 2:1,6:1 2:1,7:1 2:1,8:1 2:1,9:1 3:1,4:1 3:1,5:1 3:1,6:1 3:1,7:1 3:1,8:1 3:1,9:1 4:1,5:1 4:1,6:1 4:1,7:1 4:1,8:1 4:1,9:1 5:1,6:1 5:1,7:1 5:1,8:1 5:1,9:1 6:1,7:1 6:1,8:1 6:1,9:1 7:1,8:1 7:1,9:1 8:1,9:1\n"
     ]
    }
   ],
   "source": [
    "N = 2\n",
    "\n",
    "strs = sorted([*gen_seq_str(N,10)], key = sorter)\n",
    "\n",
    "total = len(strs)\n",
    "print(f\"{N = }, {total = }\")\n",
    "\n",
    "print(' '.join(strs))"
   ]
  },
  {
   "cell_type": "code",
   "execution_count": 19,
   "id": "233b9ef2",
   "metadata": {},
   "outputs": [
    {
     "name": "stdout",
     "output_type": "stream",
     "text": [
      "n = 1 ---> 0, 1, 2, 3, 4, 5, 6, 7, 8, 9\n",
      "n = 2 ... \n",
      "n = 3 ---> 153, 370, 371, 407\n",
      "n = 4 ---> 1634, 8208, 9474\n",
      "n = 5 ---> 54748, 92727, 93084\n",
      "n = 6 ---> 548834\n",
      "n = 7 ---> 1741725, 4210818, 9800817, 9926315\n",
      "n = 8 ---> 24678050, 24678051, 88593477\n",
      "n = 9 ---> 146511208, 472335975, 534494836, 912985153\n",
      "n = 10 ---> 4679307774\n",
      "n = 11 ---> 32164049650, 32164049651, 40028394225, 42678290603, 44708635679, 49388550606, 82693916578, 94204591914\n",
      "n = 12 ... \n",
      "n = 13 ... \n",
      "n = 14 ---> 28116440335967\n",
      "n = 15 ... \n",
      "n = 16 ---> 4338281769391370, 4338281769391371\n",
      "n = 17 ---> 21897142587612075, 35641594208964132, 35875699062250035\n",
      "n = 18 ... \n",
      "n = 19 ---> 1517841543307505039, 3289582984443187032, 4498128791164624869, 4929273885928088826\n",
      "n = 20 ---> 63105425988599693916\n"
     ]
    }
   ],
   "source": [
    "N = 20\n",
    "\n",
    "for i in range(1,N+1):\n",
    "    lkp = pow_lookup_table(i)\n",
    "    solutions = []\n",
    "    for s in gen_seq_str(i, 10):\n",
    "        val = str2val(lkp, s)\n",
    "        sval =  val2str(val)\n",
    "        if s == sval:\n",
    "            solutions.append(str(val))\n",
    "    if len(solutions) > 0:\n",
    "        print(f\"n = {i} ---> {', '.join(solutions)}\")\n",
    "    else:\n",
    "        print(f\"n = {i} ... \") "
   ]
  },
  {
   "cell_type": "code",
   "execution_count": null,
   "id": "6f196553",
   "metadata": {},
   "outputs": [],
   "source": []
  }
 ],
 "metadata": {
  "kernelspec": {
   "display_name": "Python 3 (ipykernel)",
   "language": "python",
   "name": "python3"
  },
  "language_info": {
   "codemirror_mode": {
    "name": "ipython",
    "version": 3
   },
   "file_extension": ".py",
   "mimetype": "text/x-python",
   "name": "python",
   "nbconvert_exporter": "python",
   "pygments_lexer": "ipython3",
   "version": "3.9.14"
  }
 },
 "nbformat": 4,
 "nbformat_minor": 5
}
